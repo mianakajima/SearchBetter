{
 "cells": [
  {
   "cell_type": "markdown",
   "source": [
    "# 01: Play with Selenium\n",
    "\n",
    "Date: 2022-08-25"
   ],
   "metadata": {
    "collapsed": false,
    "pycharm": {
     "name": "#%% md\n"
    }
   }
  },
  {
   "cell_type": "code",
   "execution_count": 36,
   "outputs": [],
   "source": [
    "from selenium import webdriver\n",
    "from selenium.webdriver.common.by import By\n",
    "from selenium.webdriver.common.keys import Keys\n",
    "import time\n",
    "import re"
   ],
   "metadata": {
    "collapsed": false,
    "pycharm": {
     "name": "#%%\n"
    }
   }
  },
  {
   "cell_type": "code",
   "execution_count": 76,
   "outputs": [],
   "source": [
    "browser = webdriver.Chrome()\n",
    "browser.get('https://www.google.com')\n",
    "searchbar = browser.find_element(By.CSS_SELECTOR, '[name=\"q\"]')\n",
    "searchbar.send_keys(\"how to webscrape python selenium\")\n",
    "time.sleep(0.2)\n",
    "searchbar.send_keys(Keys.ENTER)\n",
    "\n",
    "time.sleep(3)\n",
    "\n",
    "results = browser.find_elements(By.XPATH , \"//div[@class='Z26q7c UK95Uc uUuwM jGGQ5e']/div[@class='yuRUbf']/a\")\n",
    "descriptions = browser.find_elements(By.XPATH, \"//div[@class='VwiC3b yXK7lf MUxGbd yDYNvb lyLwlc lEBKkf']\")\n",
    "\n",
    "result_text = [result.get_attribute('href') for result in results]\n",
    "descriptions_text = [description.text for description in descriptions]\n",
    "\n",
    "websites_top = result_text[0:3]\n",
    "\n",
    "browser.execute_script(\"arguments[0].scrollIntoView(true);\", results[2])\n",
    "\n",
    "# for i, link in enumerate(websites_top):\n",
    "#     browser.execute_script(\"window.open('');\")\n",
    "#     browser.switch_to.window(browser.window_handles[i + 1])\n",
    "#     browser.get(link)"
   ],
   "metadata": {
    "collapsed": false,
    "pycharm": {
     "name": "#%%\n"
    }
   }
  },
  {
   "cell_type": "code",
   "execution_count": 80,
   "outputs": [],
   "source": [
    "browser.execute_script(\"arguments[0].scrollIntoView(true);\", results[1])"
   ],
   "metadata": {
    "collapsed": false,
    "pycharm": {
     "name": "#%%\n"
    }
   }
  },
  {
   "cell_type": "code",
   "execution_count": 79,
   "outputs": [
    {
     "data": {
      "text/plain": "'https://www.analyticsvidhya.com/blog/2020/10/web-scraping-selenium-in-python/'"
     },
     "execution_count": 79,
     "metadata": {},
     "output_type": "execute_result"
    }
   ],
   "source": [
    "results[2].get_attribute('href')"
   ],
   "metadata": {
    "collapsed": false,
    "pycharm": {
     "name": "#%%\n"
    }
   }
  },
  {
   "cell_type": "code",
   "execution_count": 81,
   "outputs": [],
   "source": [
    "browser.close()"
   ],
   "metadata": {
    "collapsed": false,
    "pycharm": {
     "name": "#%%\n"
    }
   }
  },
  {
   "cell_type": "markdown",
   "source": [
    "Next steps:\n",
    "- Find the element attributed: can just use XPATH again? [https://www.browserstack.com/guide/find-element-by-text-using-selenium](https://www.browserstack.com/guide/find-element-by-text-using-selenium)\n",
    "- And scroll / highlight\n"
   ],
   "metadata": {
    "collapsed": false,
    "pycharm": {
     "name": "#%% md\n"
    }
   }
  },
  {
   "cell_type": "code",
   "execution_count": null,
   "outputs": [],
   "source": [],
   "metadata": {
    "collapsed": false,
    "pycharm": {
     "name": "#%%\n"
    }
   }
  }
 ],
 "metadata": {
  "kernelspec": {
   "name": "searchbetter",
   "language": "python",
   "display_name": "SearchBetter"
  },
  "language_info": {
   "codemirror_mode": {
    "name": "ipython",
    "version": 2
   },
   "file_extension": ".py",
   "mimetype": "text/x-python",
   "name": "python",
   "nbconvert_exporter": "python",
   "pygments_lexer": "ipython2",
   "version": "2.7.6"
  }
 },
 "nbformat": 4,
 "nbformat_minor": 0
}